{
 "cells": [
  {
   "cell_type": "code",
   "execution_count": 12,
   "outputs": [],
   "source": [
    "from datetime import datetime, timedelta\n",
    "\n",
    "import ccxt\n",
    "import numpy as np\n",
    "import pandas as pd\n",
    "\n",
    "import plotly.graph_objects as go\n",
    "\n",
    "ex = ccxt.binance()"
   ],
   "metadata": {
    "collapsed": false
   }
  },
  {
   "cell_type": "code",
   "execution_count": 13,
   "outputs": [],
   "source": [
    "symbols = [line.strip() for line in open(\"symbols.txt\", \"r\").readlines()]"
   ],
   "metadata": {
    "collapsed": false
   }
  },
  {
   "cell_type": "code",
   "execution_count": 14,
   "outputs": [],
   "source": [
    "def get_ohlcv(symbol, days_count, timeframe):\n",
    "    from_ts = int((datetime.today() - timedelta(days=days_count)).timestamp() * 1000)\n",
    "\n",
    "    ts = []\n",
    "    time = []\n",
    "    open = []\n",
    "    high = []\n",
    "    low = []\n",
    "    close = []\n",
    "    volume = []\n",
    "\n",
    "    mid = []\n",
    "    open_close_dif = []\n",
    "    low_high_dif = []\n",
    "    open_close_dif_abs = []\n",
    "    low_high_dif_abs = []\n",
    "\n",
    "    ohlcvs = ex.fetch_ohlcv(symbol, timeframe, since=from_ts)\n",
    "\n",
    "    for ohlcv in ohlcvs:\n",
    "        t, o, h, l, c, v = ohlcv\n",
    "        ts.append(t)\n",
    "        time.append(pd.to_datetime(t, unit='ms'))\n",
    "        open.append(o)\n",
    "        high.append(h)\n",
    "        low.append(l)\n",
    "        close.append(c)\n",
    "        volume.append(v)\n",
    "\n",
    "        mid.append((h+l) / 2)\n",
    "        open_close_dif.append(o-c)\n",
    "        low_high_dif.append(l-h)\n",
    "        open_close_dif_abs.append(abs(o-c))\n",
    "        low_high_dif_abs.append(abs(l-h))\n",
    "\n",
    "    return pd.DataFrame({\"ts\": ts, \"time\": time, \"open\": open, \"high\": high, \"low\": low, \"close\": close, \"volume\": volume, \"mid\": mid, \"open_close_dif\": open_close_dif, \"low_high_dif\": low_high_dif, \"open_close_dif_abs\": open_close_dif_abs, \"low_high_dif_abs\": low_high_dif_abs})"
   ],
   "metadata": {
    "collapsed": false
   }
  },
  {
   "cell_type": "code",
   "execution_count": 15,
   "outputs": [],
   "source": [
    "def fill_ohcls(ohcls, log_price = True):\n",
    "    diff = np.abs(np.diff(ohcls['mid']))\n",
    "\n",
    "    mid_shifted = ohcls['mid'][1:].to_numpy()\n",
    "    mid_without_last = ohcls['mid'][:-1].to_numpy()\n",
    "\n",
    "    if log_price:\n",
    "        div = mid_shifted / mid_without_last\n",
    "        log_diff = np.log(div)\n",
    "    else:\n",
    "        div = (mid_shifted - mid_without_last) / mid_shifted\n",
    "        log_diff = div\n",
    "\n",
    "    ohcls.loc[1:, ['diff']] = diff\n",
    "    ohcls.loc[1:, ['log_diff']] = log_diff\n",
    "\n",
    "    return ohcls[1:]"
   ],
   "metadata": {
    "collapsed": false
   }
  },
  {
   "cell_type": "markdown",
   "source": [],
   "metadata": {
    "collapsed": false
   }
  },
  {
   "cell_type": "code",
   "execution_count": 24,
   "outputs": [],
   "source": [
    "def plot_volatility(ohcls, annualized=False):\n",
    "    volatility = go.Bar(x=ohcls['time'], y=ohcls[\"log_diff\"], name = 'price_diff')\n",
    "\n",
    "    time_period = ohcls.iloc[[0,-1]]['time']\n",
    "    mean = ohcls['log_diff'].mean()\n",
    "\n",
    "    y_sigma1 = annualize(ohcls) if annualized else ohcls['log_diff'].std()\n",
    "    y_sigma2 = y_sigma1 * 2\n",
    "    y_sigma3 = y_sigma1 * 3\n",
    "\n",
    "    mean = go.Scatter(x=time_period, y = [mean, mean], name = 'mean', mode='lines', line={'width': 1})\n",
    "    sigma1 = go.Scatter(x=time_period, y = [y_sigma1, y_sigma1], name = 'sigma1', mode='lines', line={'width': 0.5, 'color': 'lightblue'})\n",
    "    sigma2 = go.Scatter(x=time_period, y = [y_sigma2, y_sigma2], name = 'sigma2', mode='lines', line={'width': 0.5, 'color': 'yellowgreen'})\n",
    "    sigma3 = go.Scatter(x=time_period, y = [y_sigma3, y_sigma3], name = 'sigma3', mode='lines', line={'width': 0.5, 'color': 'magenta'})\n",
    "\n",
    "    min_sigma1 = go.Scatter(x=time_period, y = [-y_sigma1, -y_sigma1], mode='lines', line={'width': 0.5, 'color': 'lightblue'}, showlegend=False)\n",
    "    min_sigma2 = go.Scatter(x=time_period, y = [-y_sigma2, -y_sigma2], mode='lines', line={'width': 0.5, 'color': 'yellowgreen'}, showlegend=False)\n",
    "    min_sigma3 = go.Scatter(x=time_period, y = [-y_sigma3, -y_sigma3], mode='lines', line={'width': 0.5, 'color': 'magenta'}, showlegend=False)\n",
    "\n",
    "    fig = go.Figure(layout=go.Layout(\n",
    "        xaxis =  {\n",
    "            'showgrid': False\n",
    "        },\n",
    "        yaxis = {\n",
    "            'showgrid': False\n",
    "        }))\n",
    "    fig.add_trace(volatility)\n",
    "    fig.add_trace(mean)\n",
    "    fig.add_trace(sigma1)\n",
    "    fig.add_trace(sigma2)\n",
    "    fig.add_trace(sigma3)\n",
    "    fig.add_trace(min_sigma1,)\n",
    "    fig.add_trace(min_sigma2)\n",
    "    fig.add_trace(min_sigma3)\n",
    "\n",
    "    fig.show()"
   ],
   "metadata": {
    "collapsed": false
   }
  },
  {
   "cell_type": "code",
   "execution_count": 17,
   "outputs": [],
   "source": [
    "def annualize(ohcls, symbol = 'None'):\n",
    "    vol = ohcls['log_diff'].std()\n",
    "\n",
    "    timestamps = ohcls['ts'].to_numpy()\n",
    "    ts_start, ts_end = timestamps[0], timestamps[-1]\n",
    "    dt_ms = ts_end - ts_start\n",
    "    year_ms = 365 * 24 * 60 * 60 * 1000\n",
    "\n",
    "    n_periods = year_ms / dt_ms\n",
    "    annualized = vol * np.sqrt(n_periods)\n",
    "\n",
    "    # print(symbol, 'period:', int((dt_ms / 1000 / 60 / 60 / 24) * 100)/100, 'days')\n",
    "\n",
    "    return annualized\n"
   ],
   "metadata": {
    "collapsed": false
   }
  },
  {
   "cell_type": "markdown",
   "source": [],
   "metadata": {
    "collapsed": false
   }
  },
  {
   "cell_type": "code",
   "execution_count": 18,
   "outputs": [],
   "source": [
    "def create_ohlcv_df(symbol, days_count, timeframe, log_price = True):\n",
    "    \"\"\"\n",
    "    start volatility investigation\n",
    "    :param str symbol: Unified CCXT market symbol\n",
    "    :param int days_count: last days_count to fetch\n",
    "    :param str timeframe: \"5m\",\"15m\",\"30m\",\"1h\",\"2h\",\"4h\",\"6h\",\"12h\", or \"1d\"\n",
    "    :param bool|None log_price: default True: use log(price_diff) or not\n",
    "    \"\"\"\n",
    "    ohcls = get_ohlcv(symbol, days_count, timeframe)\n",
    "    ohcls = fill_ohcls(ohcls, log_price)\n",
    "\n",
    "    return ohcls"
   ],
   "metadata": {
    "collapsed": false
   }
  },
  {
   "cell_type": "code",
   "execution_count": 19,
   "outputs": [],
   "source": [
    "def start(symbols, days_count, timeframe):\n",
    "    coins = []\n",
    "    volatility = []\n",
    "\n",
    "    for symbol in symbols:\n",
    "        ohcls = create_ohlcv_df(symbol, days_count, timeframe)\n",
    "        annualized_vol = annualize(ohcls, symbol)\n",
    "\n",
    "        coins.append(symbol)\n",
    "        volatility.append(annualized_vol)\n",
    "\n",
    "    print(pd.DataFrame({\"annual_vol\": volatility}, index=coins))"
   ],
   "metadata": {
    "collapsed": false
   }
  },
  {
   "cell_type": "code",
   "execution_count": 20,
   "outputs": [],
   "source": [
    "def plot(symbol, days_count, timeframe, annualized = False):\n",
    "    ohcls = create_ohlcv_df(symbol, days_count, timeframe)\n",
    "    plot_volatility(ohcls, annualized)"
   ],
   "metadata": {
    "collapsed": false
   }
  },
  {
   "cell_type": "code",
   "execution_count": 21,
   "outputs": [
    {
     "name": "stdout",
     "output_type": "stream",
     "text": [
      "            annual_vol\n",
      "FORTH/BUSD    0.046980\n",
      "DOT/BUSD      0.032020\n",
      "FIL/BUSD      0.037439\n",
      "BTCST/BUSD    0.125455\n",
      "SHIB/BUSD     0.037971\n",
      "GMT/BUSD      0.038843\n",
      "ICP/BUSD      0.031993\n",
      "RUNE/BUSD     0.046982\n",
      "APE/BUSD      0.042340\n",
      "LINK/BUSD     0.043712\n"
     ]
    }
   ],
   "source": [
    "start(symbols[:10], 5, '1h')"
   ],
   "metadata": {
    "collapsed": false
   }
  },
  {
   "cell_type": "markdown",
   "source": [],
   "metadata": {
    "collapsed": false
   }
  },
  {
   "cell_type": "code",
   "execution_count": 25,
   "outputs": [
    {
     "data": {
      "application/vnd.plotly.v1+json": {
       "data": [
        {
         "name": "price_diff",
         "x": [
          "2022-10-01T17:00:00",
          "2022-10-01T18:00:00",
          "2022-10-01T19:00:00",
          "2022-10-01T20:00:00",
          "2022-10-01T21:00:00",
          "2022-10-01T22:00:00",
          "2022-10-01T23:00:00",
          "2022-10-02T00:00:00",
          "2022-10-02T01:00:00",
          "2022-10-02T02:00:00",
          "2022-10-02T03:00:00",
          "2022-10-02T04:00:00",
          "2022-10-02T05:00:00",
          "2022-10-02T06:00:00",
          "2022-10-02T07:00:00",
          "2022-10-02T08:00:00",
          "2022-10-02T09:00:00",
          "2022-10-02T10:00:00",
          "2022-10-02T11:00:00",
          "2022-10-02T12:00:00",
          "2022-10-02T13:00:00",
          "2022-10-02T14:00:00",
          "2022-10-02T15:00:00",
          "2022-10-02T16:00:00",
          "2022-10-02T17:00:00",
          "2022-10-02T18:00:00",
          "2022-10-02T19:00:00",
          "2022-10-02T20:00:00",
          "2022-10-02T21:00:00",
          "2022-10-02T22:00:00",
          "2022-10-02T23:00:00",
          "2022-10-03T00:00:00",
          "2022-10-03T01:00:00",
          "2022-10-03T02:00:00",
          "2022-10-03T03:00:00",
          "2022-10-03T04:00:00",
          "2022-10-03T05:00:00",
          "2022-10-03T06:00:00",
          "2022-10-03T07:00:00",
          "2022-10-03T08:00:00",
          "2022-10-03T09:00:00",
          "2022-10-03T10:00:00",
          "2022-10-03T11:00:00",
          "2022-10-03T12:00:00",
          "2022-10-03T13:00:00",
          "2022-10-03T14:00:00",
          "2022-10-03T15:00:00",
          "2022-10-03T16:00:00",
          "2022-10-03T17:00:00",
          "2022-10-03T18:00:00",
          "2022-10-03T19:00:00",
          "2022-10-03T20:00:00",
          "2022-10-03T21:00:00",
          "2022-10-03T22:00:00",
          "2022-10-03T23:00:00",
          "2022-10-04T00:00:00",
          "2022-10-04T01:00:00",
          "2022-10-04T02:00:00",
          "2022-10-04T03:00:00",
          "2022-10-04T04:00:00",
          "2022-10-04T05:00:00",
          "2022-10-04T06:00:00",
          "2022-10-04T07:00:00",
          "2022-10-04T08:00:00",
          "2022-10-04T09:00:00",
          "2022-10-04T10:00:00",
          "2022-10-04T11:00:00",
          "2022-10-04T12:00:00",
          "2022-10-04T13:00:00",
          "2022-10-04T14:00:00",
          "2022-10-04T15:00:00",
          "2022-10-04T16:00:00",
          "2022-10-04T17:00:00",
          "2022-10-04T18:00:00",
          "2022-10-04T19:00:00",
          "2022-10-04T20:00:00",
          "2022-10-04T21:00:00",
          "2022-10-04T22:00:00",
          "2022-10-04T23:00:00",
          "2022-10-05T00:00:00",
          "2022-10-05T01:00:00",
          "2022-10-05T02:00:00",
          "2022-10-05T03:00:00",
          "2022-10-05T04:00:00",
          "2022-10-05T05:00:00",
          "2022-10-05T06:00:00",
          "2022-10-05T07:00:00",
          "2022-10-05T08:00:00",
          "2022-10-05T09:00:00",
          "2022-10-05T10:00:00",
          "2022-10-05T11:00:00",
          "2022-10-05T12:00:00",
          "2022-10-05T13:00:00",
          "2022-10-05T14:00:00",
          "2022-10-05T15:00:00",
          "2022-10-05T16:00:00",
          "2022-10-05T17:00:00",
          "2022-10-05T18:00:00",
          "2022-10-05T19:00:00",
          "2022-10-05T20:00:00",
          "2022-10-05T21:00:00",
          "2022-10-05T22:00:00",
          "2022-10-05T23:00:00",
          "2022-10-06T00:00:00",
          "2022-10-06T01:00:00",
          "2022-10-06T02:00:00",
          "2022-10-06T03:00:00",
          "2022-10-06T04:00:00",
          "2022-10-06T05:00:00",
          "2022-10-06T06:00:00",
          "2022-10-06T07:00:00",
          "2022-10-06T08:00:00",
          "2022-10-06T09:00:00",
          "2022-10-06T10:00:00",
          "2022-10-06T11:00:00",
          "2022-10-06T12:00:00",
          "2022-10-06T13:00:00",
          "2022-10-06T14:00:00",
          "2022-10-06T15:00:00"
         ],
         "y": [
          -0.007126891107647228,
          -0.00433471419458607,
          -0.0019894848113862274,
          -0.0020789732237730526,
          -0.0047723239159562485,
          -0.009093064495212869,
          0.0053047463381455,
          0.008446600732914407,
          -0.010288539894101726,
          -0.002682629430240889,
          -0.0017345556660232624,
          -0.005658175177872282,
          0.001395754806412535,
          -0.011220969818151507,
          -0.003591513766655197,
          -7.375610666113069E-4,
          -0.006514102328709019,
          -0.0295748437212463,
          -0.016909808008449143,
          -0.023584587851648374,
          0.009544871183356162,
          -0.0069355653052746115,
          -0.009451202252697927,
          0.008051933460229853,
          0.0021616818666619205,
          0.003581904138716428,
          0.0027805882425086695,
          -0.007093126635999412,
          -0.002800409162109618,
          -0.0022970913622948454,
          -0.03546897603108439,
          -0.012688961818590559,
          0.008975552823494362,
          -0.047027891277984096,
          -0.007513708486923608,
          5.961670145538564E-4,
          0.015825591574868566,
          3.795131926382957E-4,
          -0.007965410080718176,
          0.004821459590750475,
          -0.010749986109375912,
          0.010819190261652564,
          -0.0024596849455623022,
          0.0022866655842642665,
          0.011013327177982974,
          -0.009077218151116763,
          -0.005402797654384743,
          -0.023506519499636374,
          -0.007064393586508028,
          7.874016154855086E-4,
          -0.00365591805049236,
          -0.005870188820361972,
          0.0032094652601503543,
          0.028850713832038858,
          0.01106213666891774,
          -0.008337434525626273,
          -0.023221567848659395,
          0.010760238054941102,
          0.00991151091629289,
          -0.011113179259098724,
          0.0063454226377628485,
          -0.007406918739133539,
          0.014689609097217005,
          -0.008372647043525918,
          0.006172426133923514,
          0.0024095135014085617,
          0.014405180014120153,
          0.08178925301045258,
          0.008422895582837752,
          9.733583197802174E-4,
          -0.008857844730321642,
          0.015177277617624352,
          -0.008675960771538828,
          0.006209252262732636,
          -0.008256078036766352,
          -0.013295663023799397,
          -0.014868008968582607,
          -0.011248712535870765,
          0.002521573880415684,
          0.005837385520265059,
          0.012023415689316938,
          0.015556577672385547,
          -0.012861504172515621,
          0.009121997358748274,
          0.018528077561042213,
          0.008503558161746416,
          0.037127797186886295,
          -0.008462589564713198,
          -0.02053983590461903,
          -0.01765797716595498,
          5.614297892395179E-4,
          -0.01701325647724876,
          -0.011098822271551142,
          0.004447936166338739,
          0.0025510217916052047,
          -0.00392488976494543,
          0.003160266304728314,
          -0.0022973845458789423,
          0.017197301150997938,
          0.02014304528720281,
          -8.312424473828086E-4,
          -0.009127397410915731,
          0.0011493718550937648,
          0.006776120854684109,
          0.006393529909263627,
          -0.00713388222737598,
          -0.001853282383730679,
          0.003826338485170388,
          -0.006798752972025977,
          -0.01254384894998365,
          -0.008925955400320871,
          -4.753378949640932E-4,
          0.011690879817783653,
          -0.007105384060991497,
          0.006541315229639921,
          -0.0021652161906935237,
          0.012021815016210725,
          -0.01564095949936458,
          0.008288901460841184
         ],
         "type": "bar"
        },
        {
         "line": {
          "width": 1
         },
         "mode": "lines",
         "name": "mean",
         "x": [
          "2022-10-01T17:00:00",
          "2022-10-06T15:00:00"
         ],
         "y": [
          -9.067433935549844E-4,
          -9.067433935549844E-4
         ],
         "type": "scatter"
        },
        {
         "line": {
          "color": "lightblue",
          "width": 0.5
         },
         "mode": "lines",
         "name": "sigma1",
         "x": [
          "2022-10-01T17:00:00",
          "2022-10-06T15:00:00"
         ],
         "y": [
          0.014211605819722058,
          0.014211605819722058
         ],
         "type": "scatter"
        },
        {
         "line": {
          "color": "yellowgreen",
          "width": 0.5
         },
         "mode": "lines",
         "name": "sigma2",
         "x": [
          "2022-10-01T17:00:00",
          "2022-10-06T15:00:00"
         ],
         "y": [
          0.028423211639444116,
          0.028423211639444116
         ],
         "type": "scatter"
        },
        {
         "line": {
          "color": "magenta",
          "width": 0.5
         },
         "mode": "lines",
         "name": "sigma3",
         "x": [
          "2022-10-01T17:00:00",
          "2022-10-06T15:00:00"
         ],
         "y": [
          0.042634817459166176,
          0.042634817459166176
         ],
         "type": "scatter"
        },
        {
         "line": {
          "color": "lightblue",
          "width": 0.5
         },
         "mode": "lines",
         "showlegend": false,
         "x": [
          "2022-10-01T17:00:00",
          "2022-10-06T15:00:00"
         ],
         "y": [
          -0.014211605819722058,
          -0.014211605819722058
         ],
         "type": "scatter"
        },
        {
         "line": {
          "color": "yellowgreen",
          "width": 0.5
         },
         "mode": "lines",
         "showlegend": false,
         "x": [
          "2022-10-01T17:00:00",
          "2022-10-06T15:00:00"
         ],
         "y": [
          -0.028423211639444116,
          -0.028423211639444116
         ],
         "type": "scatter"
        },
        {
         "line": {
          "color": "magenta",
          "width": 0.5
         },
         "mode": "lines",
         "showlegend": false,
         "x": [
          "2022-10-01T17:00:00",
          "2022-10-06T15:00:00"
         ],
         "y": [
          -0.042634817459166176,
          -0.042634817459166176
         ],
         "type": "scatter"
        }
       ],
       "layout": {
        "xaxis": {
         "showgrid": false
        },
        "yaxis": {
         "showgrid": false
        },
        "template": {
         "data": {
          "histogram2dcontour": [
           {
            "type": "histogram2dcontour",
            "colorbar": {
             "outlinewidth": 0,
             "ticks": ""
            },
            "colorscale": [
             [
              0.0,
              "#0d0887"
             ],
             [
              0.1111111111111111,
              "#46039f"
             ],
             [
              0.2222222222222222,
              "#7201a8"
             ],
             [
              0.3333333333333333,
              "#9c179e"
             ],
             [
              0.4444444444444444,
              "#bd3786"
             ],
             [
              0.5555555555555556,
              "#d8576b"
             ],
             [
              0.6666666666666666,
              "#ed7953"
             ],
             [
              0.7777777777777778,
              "#fb9f3a"
             ],
             [
              0.8888888888888888,
              "#fdca26"
             ],
             [
              1.0,
              "#f0f921"
             ]
            ]
           }
          ],
          "choropleth": [
           {
            "type": "choropleth",
            "colorbar": {
             "outlinewidth": 0,
             "ticks": ""
            }
           }
          ],
          "histogram2d": [
           {
            "type": "histogram2d",
            "colorbar": {
             "outlinewidth": 0,
             "ticks": ""
            },
            "colorscale": [
             [
              0.0,
              "#0d0887"
             ],
             [
              0.1111111111111111,
              "#46039f"
             ],
             [
              0.2222222222222222,
              "#7201a8"
             ],
             [
              0.3333333333333333,
              "#9c179e"
             ],
             [
              0.4444444444444444,
              "#bd3786"
             ],
             [
              0.5555555555555556,
              "#d8576b"
             ],
             [
              0.6666666666666666,
              "#ed7953"
             ],
             [
              0.7777777777777778,
              "#fb9f3a"
             ],
             [
              0.8888888888888888,
              "#fdca26"
             ],
             [
              1.0,
              "#f0f921"
             ]
            ]
           }
          ],
          "heatmap": [
           {
            "type": "heatmap",
            "colorbar": {
             "outlinewidth": 0,
             "ticks": ""
            },
            "colorscale": [
             [
              0.0,
              "#0d0887"
             ],
             [
              0.1111111111111111,
              "#46039f"
             ],
             [
              0.2222222222222222,
              "#7201a8"
             ],
             [
              0.3333333333333333,
              "#9c179e"
             ],
             [
              0.4444444444444444,
              "#bd3786"
             ],
             [
              0.5555555555555556,
              "#d8576b"
             ],
             [
              0.6666666666666666,
              "#ed7953"
             ],
             [
              0.7777777777777778,
              "#fb9f3a"
             ],
             [
              0.8888888888888888,
              "#fdca26"
             ],
             [
              1.0,
              "#f0f921"
             ]
            ]
           }
          ],
          "heatmapgl": [
           {
            "type": "heatmapgl",
            "colorbar": {
             "outlinewidth": 0,
             "ticks": ""
            },
            "colorscale": [
             [
              0.0,
              "#0d0887"
             ],
             [
              0.1111111111111111,
              "#46039f"
             ],
             [
              0.2222222222222222,
              "#7201a8"
             ],
             [
              0.3333333333333333,
              "#9c179e"
             ],
             [
              0.4444444444444444,
              "#bd3786"
             ],
             [
              0.5555555555555556,
              "#d8576b"
             ],
             [
              0.6666666666666666,
              "#ed7953"
             ],
             [
              0.7777777777777778,
              "#fb9f3a"
             ],
             [
              0.8888888888888888,
              "#fdca26"
             ],
             [
              1.0,
              "#f0f921"
             ]
            ]
           }
          ],
          "contourcarpet": [
           {
            "type": "contourcarpet",
            "colorbar": {
             "outlinewidth": 0,
             "ticks": ""
            }
           }
          ],
          "contour": [
           {
            "type": "contour",
            "colorbar": {
             "outlinewidth": 0,
             "ticks": ""
            },
            "colorscale": [
             [
              0.0,
              "#0d0887"
             ],
             [
              0.1111111111111111,
              "#46039f"
             ],
             [
              0.2222222222222222,
              "#7201a8"
             ],
             [
              0.3333333333333333,
              "#9c179e"
             ],
             [
              0.4444444444444444,
              "#bd3786"
             ],
             [
              0.5555555555555556,
              "#d8576b"
             ],
             [
              0.6666666666666666,
              "#ed7953"
             ],
             [
              0.7777777777777778,
              "#fb9f3a"
             ],
             [
              0.8888888888888888,
              "#fdca26"
             ],
             [
              1.0,
              "#f0f921"
             ]
            ]
           }
          ],
          "surface": [
           {
            "type": "surface",
            "colorbar": {
             "outlinewidth": 0,
             "ticks": ""
            },
            "colorscale": [
             [
              0.0,
              "#0d0887"
             ],
             [
              0.1111111111111111,
              "#46039f"
             ],
             [
              0.2222222222222222,
              "#7201a8"
             ],
             [
              0.3333333333333333,
              "#9c179e"
             ],
             [
              0.4444444444444444,
              "#bd3786"
             ],
             [
              0.5555555555555556,
              "#d8576b"
             ],
             [
              0.6666666666666666,
              "#ed7953"
             ],
             [
              0.7777777777777778,
              "#fb9f3a"
             ],
             [
              0.8888888888888888,
              "#fdca26"
             ],
             [
              1.0,
              "#f0f921"
             ]
            ]
           }
          ],
          "mesh3d": [
           {
            "type": "mesh3d",
            "colorbar": {
             "outlinewidth": 0,
             "ticks": ""
            }
           }
          ],
          "scatter": [
           {
            "marker": {
             "line": {
              "color": "#283442"
             }
            },
            "type": "scatter"
           }
          ],
          "parcoords": [
           {
            "type": "parcoords",
            "line": {
             "colorbar": {
              "outlinewidth": 0,
              "ticks": ""
             }
            }
           }
          ],
          "scatterpolargl": [
           {
            "type": "scatterpolargl",
            "marker": {
             "colorbar": {
              "outlinewidth": 0,
              "ticks": ""
             }
            }
           }
          ],
          "bar": [
           {
            "error_x": {
             "color": "#f2f5fa"
            },
            "error_y": {
             "color": "#f2f5fa"
            },
            "marker": {
             "line": {
              "color": "rgb(17,17,17)",
              "width": 0.5
             },
             "pattern": {
              "fillmode": "overlay",
              "size": 10,
              "solidity": 0.2
             }
            },
            "type": "bar"
           }
          ],
          "scattergeo": [
           {
            "type": "scattergeo",
            "marker": {
             "colorbar": {
              "outlinewidth": 0,
              "ticks": ""
             }
            }
           }
          ],
          "scatterpolar": [
           {
            "type": "scatterpolar",
            "marker": {
             "colorbar": {
              "outlinewidth": 0,
              "ticks": ""
             }
            }
           }
          ],
          "histogram": [
           {
            "marker": {
             "pattern": {
              "fillmode": "overlay",
              "size": 10,
              "solidity": 0.2
             }
            },
            "type": "histogram"
           }
          ],
          "scattergl": [
           {
            "marker": {
             "line": {
              "color": "#283442"
             }
            },
            "type": "scattergl"
           }
          ],
          "scatter3d": [
           {
            "type": "scatter3d",
            "line": {
             "colorbar": {
              "outlinewidth": 0,
              "ticks": ""
             }
            },
            "marker": {
             "colorbar": {
              "outlinewidth": 0,
              "ticks": ""
             }
            }
           }
          ],
          "scattermapbox": [
           {
            "type": "scattermapbox",
            "marker": {
             "colorbar": {
              "outlinewidth": 0,
              "ticks": ""
             }
            }
           }
          ],
          "scatterternary": [
           {
            "type": "scatterternary",
            "marker": {
             "colorbar": {
              "outlinewidth": 0,
              "ticks": ""
             }
            }
           }
          ],
          "scattercarpet": [
           {
            "type": "scattercarpet",
            "marker": {
             "colorbar": {
              "outlinewidth": 0,
              "ticks": ""
             }
            }
           }
          ],
          "carpet": [
           {
            "aaxis": {
             "endlinecolor": "#A2B1C6",
             "gridcolor": "#506784",
             "linecolor": "#506784",
             "minorgridcolor": "#506784",
             "startlinecolor": "#A2B1C6"
            },
            "baxis": {
             "endlinecolor": "#A2B1C6",
             "gridcolor": "#506784",
             "linecolor": "#506784",
             "minorgridcolor": "#506784",
             "startlinecolor": "#A2B1C6"
            },
            "type": "carpet"
           }
          ],
          "table": [
           {
            "cells": {
             "fill": {
              "color": "#506784"
             },
             "line": {
              "color": "rgb(17,17,17)"
             }
            },
            "header": {
             "fill": {
              "color": "#2a3f5f"
             },
             "line": {
              "color": "rgb(17,17,17)"
             }
            },
            "type": "table"
           }
          ],
          "barpolar": [
           {
            "marker": {
             "line": {
              "color": "rgb(17,17,17)",
              "width": 0.5
             },
             "pattern": {
              "fillmode": "overlay",
              "size": 10,
              "solidity": 0.2
             }
            },
            "type": "barpolar"
           }
          ],
          "pie": [
           {
            "automargin": true,
            "type": "pie"
           }
          ]
         },
         "layout": {
          "autotypenumbers": "strict",
          "colorway": [
           "#636efa",
           "#EF553B",
           "#00cc96",
           "#ab63fa",
           "#FFA15A",
           "#19d3f3",
           "#FF6692",
           "#B6E880",
           "#FF97FF",
           "#FECB52"
          ],
          "font": {
           "color": "#f2f5fa"
          },
          "hovermode": "closest",
          "hoverlabel": {
           "align": "left"
          },
          "paper_bgcolor": "rgb(17,17,17)",
          "plot_bgcolor": "rgb(17,17,17)",
          "polar": {
           "bgcolor": "rgb(17,17,17)",
           "angularaxis": {
            "gridcolor": "#506784",
            "linecolor": "#506784",
            "ticks": ""
           },
           "radialaxis": {
            "gridcolor": "#506784",
            "linecolor": "#506784",
            "ticks": ""
           }
          },
          "ternary": {
           "bgcolor": "rgb(17,17,17)",
           "aaxis": {
            "gridcolor": "#506784",
            "linecolor": "#506784",
            "ticks": ""
           },
           "baxis": {
            "gridcolor": "#506784",
            "linecolor": "#506784",
            "ticks": ""
           },
           "caxis": {
            "gridcolor": "#506784",
            "linecolor": "#506784",
            "ticks": ""
           }
          },
          "coloraxis": {
           "colorbar": {
            "outlinewidth": 0,
            "ticks": ""
           }
          },
          "colorscale": {
           "sequential": [
            [
             0.0,
             "#0d0887"
            ],
            [
             0.1111111111111111,
             "#46039f"
            ],
            [
             0.2222222222222222,
             "#7201a8"
            ],
            [
             0.3333333333333333,
             "#9c179e"
            ],
            [
             0.4444444444444444,
             "#bd3786"
            ],
            [
             0.5555555555555556,
             "#d8576b"
            ],
            [
             0.6666666666666666,
             "#ed7953"
            ],
            [
             0.7777777777777778,
             "#fb9f3a"
            ],
            [
             0.8888888888888888,
             "#fdca26"
            ],
            [
             1.0,
             "#f0f921"
            ]
           ],
           "sequentialminus": [
            [
             0.0,
             "#0d0887"
            ],
            [
             0.1111111111111111,
             "#46039f"
            ],
            [
             0.2222222222222222,
             "#7201a8"
            ],
            [
             0.3333333333333333,
             "#9c179e"
            ],
            [
             0.4444444444444444,
             "#bd3786"
            ],
            [
             0.5555555555555556,
             "#d8576b"
            ],
            [
             0.6666666666666666,
             "#ed7953"
            ],
            [
             0.7777777777777778,
             "#fb9f3a"
            ],
            [
             0.8888888888888888,
             "#fdca26"
            ],
            [
             1.0,
             "#f0f921"
            ]
           ],
           "diverging": [
            [
             0,
             "#8e0152"
            ],
            [
             0.1,
             "#c51b7d"
            ],
            [
             0.2,
             "#de77ae"
            ],
            [
             0.3,
             "#f1b6da"
            ],
            [
             0.4,
             "#fde0ef"
            ],
            [
             0.5,
             "#f7f7f7"
            ],
            [
             0.6,
             "#e6f5d0"
            ],
            [
             0.7,
             "#b8e186"
            ],
            [
             0.8,
             "#7fbc41"
            ],
            [
             0.9,
             "#4d9221"
            ],
            [
             1,
             "#276419"
            ]
           ]
          },
          "xaxis": {
           "gridcolor": "#283442",
           "linecolor": "#506784",
           "ticks": "",
           "title": {
            "standoff": 15
           },
           "zerolinecolor": "#283442",
           "automargin": true,
           "zerolinewidth": 2
          },
          "yaxis": {
           "gridcolor": "#283442",
           "linecolor": "#506784",
           "ticks": "",
           "title": {
            "standoff": 15
           },
           "zerolinecolor": "#283442",
           "automargin": true,
           "zerolinewidth": 2
          },
          "scene": {
           "xaxis": {
            "backgroundcolor": "rgb(17,17,17)",
            "gridcolor": "#506784",
            "linecolor": "#506784",
            "showbackground": true,
            "ticks": "",
            "zerolinecolor": "#C8D4E3",
            "gridwidth": 2
           },
           "yaxis": {
            "backgroundcolor": "rgb(17,17,17)",
            "gridcolor": "#506784",
            "linecolor": "#506784",
            "showbackground": true,
            "ticks": "",
            "zerolinecolor": "#C8D4E3",
            "gridwidth": 2
           },
           "zaxis": {
            "backgroundcolor": "rgb(17,17,17)",
            "gridcolor": "#506784",
            "linecolor": "#506784",
            "showbackground": true,
            "ticks": "",
            "zerolinecolor": "#C8D4E3",
            "gridwidth": 2
           }
          },
          "shapedefaults": {
           "line": {
            "color": "#f2f5fa"
           }
          },
          "annotationdefaults": {
           "arrowcolor": "#f2f5fa",
           "arrowhead": 0,
           "arrowwidth": 1
          },
          "geo": {
           "bgcolor": "rgb(17,17,17)",
           "landcolor": "rgb(17,17,17)",
           "subunitcolor": "#506784",
           "showland": true,
           "showlakes": true,
           "lakecolor": "rgb(17,17,17)"
          },
          "title": {
           "x": 0.05
          },
          "updatemenudefaults": {
           "bgcolor": "#506784",
           "borderwidth": 0
          },
          "sliderdefaults": {
           "bgcolor": "#C8D4E3",
           "borderwidth": 1,
           "bordercolor": "rgb(17,17,17)",
           "tickwidth": 0
          },
          "mapbox": {
           "style": "dark"
          }
         }
        }
       },
       "config": {
        "plotlyServerURL": "https://plot.ly"
       }
      },
      "text/html": "<div>                            <div id=\"2db8fe41-f44b-47fc-af2d-22f18d7a551c\" class=\"plotly-graph-div\" style=\"height:525px; width:100%;\"></div>            <script type=\"text/javascript\">                require([\"plotly\"], function(Plotly) {                    window.PLOTLYENV=window.PLOTLYENV || {};                                    if (document.getElementById(\"2db8fe41-f44b-47fc-af2d-22f18d7a551c\")) {                    Plotly.newPlot(                        \"2db8fe41-f44b-47fc-af2d-22f18d7a551c\",                        [{\"name\":\"price_diff\",\"x\":[\"2022-10-01T17:00:00\",\"2022-10-01T18:00:00\",\"2022-10-01T19:00:00\",\"2022-10-01T20:00:00\",\"2022-10-01T21:00:00\",\"2022-10-01T22:00:00\",\"2022-10-01T23:00:00\",\"2022-10-02T00:00:00\",\"2022-10-02T01:00:00\",\"2022-10-02T02:00:00\",\"2022-10-02T03:00:00\",\"2022-10-02T04:00:00\",\"2022-10-02T05:00:00\",\"2022-10-02T06:00:00\",\"2022-10-02T07:00:00\",\"2022-10-02T08:00:00\",\"2022-10-02T09:00:00\",\"2022-10-02T10:00:00\",\"2022-10-02T11:00:00\",\"2022-10-02T12:00:00\",\"2022-10-02T13:00:00\",\"2022-10-02T14:00:00\",\"2022-10-02T15:00:00\",\"2022-10-02T16:00:00\",\"2022-10-02T17:00:00\",\"2022-10-02T18:00:00\",\"2022-10-02T19:00:00\",\"2022-10-02T20:00:00\",\"2022-10-02T21:00:00\",\"2022-10-02T22:00:00\",\"2022-10-02T23:00:00\",\"2022-10-03T00:00:00\",\"2022-10-03T01:00:00\",\"2022-10-03T02:00:00\",\"2022-10-03T03:00:00\",\"2022-10-03T04:00:00\",\"2022-10-03T05:00:00\",\"2022-10-03T06:00:00\",\"2022-10-03T07:00:00\",\"2022-10-03T08:00:00\",\"2022-10-03T09:00:00\",\"2022-10-03T10:00:00\",\"2022-10-03T11:00:00\",\"2022-10-03T12:00:00\",\"2022-10-03T13:00:00\",\"2022-10-03T14:00:00\",\"2022-10-03T15:00:00\",\"2022-10-03T16:00:00\",\"2022-10-03T17:00:00\",\"2022-10-03T18:00:00\",\"2022-10-03T19:00:00\",\"2022-10-03T20:00:00\",\"2022-10-03T21:00:00\",\"2022-10-03T22:00:00\",\"2022-10-03T23:00:00\",\"2022-10-04T00:00:00\",\"2022-10-04T01:00:00\",\"2022-10-04T02:00:00\",\"2022-10-04T03:00:00\",\"2022-10-04T04:00:00\",\"2022-10-04T05:00:00\",\"2022-10-04T06:00:00\",\"2022-10-04T07:00:00\",\"2022-10-04T08:00:00\",\"2022-10-04T09:00:00\",\"2022-10-04T10:00:00\",\"2022-10-04T11:00:00\",\"2022-10-04T12:00:00\",\"2022-10-04T13:00:00\",\"2022-10-04T14:00:00\",\"2022-10-04T15:00:00\",\"2022-10-04T16:00:00\",\"2022-10-04T17:00:00\",\"2022-10-04T18:00:00\",\"2022-10-04T19:00:00\",\"2022-10-04T20:00:00\",\"2022-10-04T21:00:00\",\"2022-10-04T22:00:00\",\"2022-10-04T23:00:00\",\"2022-10-05T00:00:00\",\"2022-10-05T01:00:00\",\"2022-10-05T02:00:00\",\"2022-10-05T03:00:00\",\"2022-10-05T04:00:00\",\"2022-10-05T05:00:00\",\"2022-10-05T06:00:00\",\"2022-10-05T07:00:00\",\"2022-10-05T08:00:00\",\"2022-10-05T09:00:00\",\"2022-10-05T10:00:00\",\"2022-10-05T11:00:00\",\"2022-10-05T12:00:00\",\"2022-10-05T13:00:00\",\"2022-10-05T14:00:00\",\"2022-10-05T15:00:00\",\"2022-10-05T16:00:00\",\"2022-10-05T17:00:00\",\"2022-10-05T18:00:00\",\"2022-10-05T19:00:00\",\"2022-10-05T20:00:00\",\"2022-10-05T21:00:00\",\"2022-10-05T22:00:00\",\"2022-10-05T23:00:00\",\"2022-10-06T00:00:00\",\"2022-10-06T01:00:00\",\"2022-10-06T02:00:00\",\"2022-10-06T03:00:00\",\"2022-10-06T04:00:00\",\"2022-10-06T05:00:00\",\"2022-10-06T06:00:00\",\"2022-10-06T07:00:00\",\"2022-10-06T08:00:00\",\"2022-10-06T09:00:00\",\"2022-10-06T10:00:00\",\"2022-10-06T11:00:00\",\"2022-10-06T12:00:00\",\"2022-10-06T13:00:00\",\"2022-10-06T14:00:00\",\"2022-10-06T15:00:00\"],\"y\":[-0.007126891107647228,-0.00433471419458607,-0.0019894848113862274,-0.0020789732237730526,-0.0047723239159562485,-0.009093064495212869,0.0053047463381455,0.008446600732914407,-0.010288539894101726,-0.002682629430240889,-0.0017345556660232624,-0.005658175177872282,0.001395754806412535,-0.011220969818151507,-0.003591513766655197,-0.0007375610666113069,-0.006514102328709019,-0.0295748437212463,-0.016909808008449143,-0.023584587851648374,0.009544871183356162,-0.0069355653052746115,-0.009451202252697927,0.008051933460229853,0.0021616818666619205,0.003581904138716428,0.0027805882425086695,-0.007093126635999412,-0.002800409162109618,-0.0022970913622948454,-0.03546897603108439,-0.012688961818590559,0.008975552823494362,-0.047027891277984096,-0.007513708486923608,0.0005961670145538564,0.015825591574868566,0.0003795131926382957,-0.007965410080718176,0.004821459590750475,-0.010749986109375912,0.010819190261652564,-0.0024596849455623022,0.0022866655842642665,0.011013327177982974,-0.009077218151116763,-0.005402797654384743,-0.023506519499636374,-0.007064393586508028,0.0007874016154855086,-0.00365591805049236,-0.005870188820361972,0.0032094652601503543,0.028850713832038858,0.01106213666891774,-0.008337434525626273,-0.023221567848659395,0.010760238054941102,0.00991151091629289,-0.011113179259098724,0.0063454226377628485,-0.007406918739133539,0.014689609097217005,-0.008372647043525918,0.006172426133923514,0.0024095135014085617,0.014405180014120153,0.08178925301045258,0.008422895582837752,0.0009733583197802174,-0.008857844730321642,0.015177277617624352,-0.008675960771538828,0.006209252262732636,-0.008256078036766352,-0.013295663023799397,-0.014868008968582607,-0.011248712535870765,0.002521573880415684,0.005837385520265059,0.012023415689316938,0.015556577672385547,-0.012861504172515621,0.009121997358748274,0.018528077561042213,0.008503558161746416,0.037127797186886295,-0.008462589564713198,-0.02053983590461903,-0.01765797716595498,0.0005614297892395179,-0.01701325647724876,-0.011098822271551142,0.004447936166338739,0.0025510217916052047,-0.00392488976494543,0.003160266304728314,-0.0022973845458789423,0.017197301150997938,0.02014304528720281,-0.0008312424473828086,-0.009127397410915731,0.0011493718550937648,0.006776120854684109,0.006393529909263627,-0.00713388222737598,-0.001853282383730679,0.003826338485170388,-0.006798752972025977,-0.01254384894998365,-0.008925955400320871,-0.0004753378949640932,0.011690879817783653,-0.007105384060991497,0.006541315229639921,-0.0021652161906935237,0.012021815016210725,-0.01564095949936458,0.008288901460841184],\"type\":\"bar\"},{\"line\":{\"width\":1},\"mode\":\"lines\",\"name\":\"mean\",\"x\":[\"2022-10-01T17:00:00\",\"2022-10-06T15:00:00\"],\"y\":[-0.0009067433935549844,-0.0009067433935549844],\"type\":\"scatter\"},{\"line\":{\"color\":\"lightblue\",\"width\":0.5},\"mode\":\"lines\",\"name\":\"sigma1\",\"x\":[\"2022-10-01T17:00:00\",\"2022-10-06T15:00:00\"],\"y\":[0.014211605819722058,0.014211605819722058],\"type\":\"scatter\"},{\"line\":{\"color\":\"yellowgreen\",\"width\":0.5},\"mode\":\"lines\",\"name\":\"sigma2\",\"x\":[\"2022-10-01T17:00:00\",\"2022-10-06T15:00:00\"],\"y\":[0.028423211639444116,0.028423211639444116],\"type\":\"scatter\"},{\"line\":{\"color\":\"magenta\",\"width\":0.5},\"mode\":\"lines\",\"name\":\"sigma3\",\"x\":[\"2022-10-01T17:00:00\",\"2022-10-06T15:00:00\"],\"y\":[0.042634817459166176,0.042634817459166176],\"type\":\"scatter\"},{\"line\":{\"color\":\"lightblue\",\"width\":0.5},\"mode\":\"lines\",\"showlegend\":false,\"x\":[\"2022-10-01T17:00:00\",\"2022-10-06T15:00:00\"],\"y\":[-0.014211605819722058,-0.014211605819722058],\"type\":\"scatter\"},{\"line\":{\"color\":\"yellowgreen\",\"width\":0.5},\"mode\":\"lines\",\"showlegend\":false,\"x\":[\"2022-10-01T17:00:00\",\"2022-10-06T15:00:00\"],\"y\":[-0.028423211639444116,-0.028423211639444116],\"type\":\"scatter\"},{\"line\":{\"color\":\"magenta\",\"width\":0.5},\"mode\":\"lines\",\"showlegend\":false,\"x\":[\"2022-10-01T17:00:00\",\"2022-10-06T15:00:00\"],\"y\":[-0.042634817459166176,-0.042634817459166176],\"type\":\"scatter\"}],                        {\"xaxis\":{\"showgrid\":false},\"yaxis\":{\"showgrid\":false},\"template\":{\"data\":{\"histogram2dcontour\":[{\"type\":\"histogram2dcontour\",\"colorbar\":{\"outlinewidth\":0,\"ticks\":\"\"},\"colorscale\":[[0.0,\"#0d0887\"],[0.1111111111111111,\"#46039f\"],[0.2222222222222222,\"#7201a8\"],[0.3333333333333333,\"#9c179e\"],[0.4444444444444444,\"#bd3786\"],[0.5555555555555556,\"#d8576b\"],[0.6666666666666666,\"#ed7953\"],[0.7777777777777778,\"#fb9f3a\"],[0.8888888888888888,\"#fdca26\"],[1.0,\"#f0f921\"]]}],\"choropleth\":[{\"type\":\"choropleth\",\"colorbar\":{\"outlinewidth\":0,\"ticks\":\"\"}}],\"histogram2d\":[{\"type\":\"histogram2d\",\"colorbar\":{\"outlinewidth\":0,\"ticks\":\"\"},\"colorscale\":[[0.0,\"#0d0887\"],[0.1111111111111111,\"#46039f\"],[0.2222222222222222,\"#7201a8\"],[0.3333333333333333,\"#9c179e\"],[0.4444444444444444,\"#bd3786\"],[0.5555555555555556,\"#d8576b\"],[0.6666666666666666,\"#ed7953\"],[0.7777777777777778,\"#fb9f3a\"],[0.8888888888888888,\"#fdca26\"],[1.0,\"#f0f921\"]]}],\"heatmap\":[{\"type\":\"heatmap\",\"colorbar\":{\"outlinewidth\":0,\"ticks\":\"\"},\"colorscale\":[[0.0,\"#0d0887\"],[0.1111111111111111,\"#46039f\"],[0.2222222222222222,\"#7201a8\"],[0.3333333333333333,\"#9c179e\"],[0.4444444444444444,\"#bd3786\"],[0.5555555555555556,\"#d8576b\"],[0.6666666666666666,\"#ed7953\"],[0.7777777777777778,\"#fb9f3a\"],[0.8888888888888888,\"#fdca26\"],[1.0,\"#f0f921\"]]}],\"heatmapgl\":[{\"type\":\"heatmapgl\",\"colorbar\":{\"outlinewidth\":0,\"ticks\":\"\"},\"colorscale\":[[0.0,\"#0d0887\"],[0.1111111111111111,\"#46039f\"],[0.2222222222222222,\"#7201a8\"],[0.3333333333333333,\"#9c179e\"],[0.4444444444444444,\"#bd3786\"],[0.5555555555555556,\"#d8576b\"],[0.6666666666666666,\"#ed7953\"],[0.7777777777777778,\"#fb9f3a\"],[0.8888888888888888,\"#fdca26\"],[1.0,\"#f0f921\"]]}],\"contourcarpet\":[{\"type\":\"contourcarpet\",\"colorbar\":{\"outlinewidth\":0,\"ticks\":\"\"}}],\"contour\":[{\"type\":\"contour\",\"colorbar\":{\"outlinewidth\":0,\"ticks\":\"\"},\"colorscale\":[[0.0,\"#0d0887\"],[0.1111111111111111,\"#46039f\"],[0.2222222222222222,\"#7201a8\"],[0.3333333333333333,\"#9c179e\"],[0.4444444444444444,\"#bd3786\"],[0.5555555555555556,\"#d8576b\"],[0.6666666666666666,\"#ed7953\"],[0.7777777777777778,\"#fb9f3a\"],[0.8888888888888888,\"#fdca26\"],[1.0,\"#f0f921\"]]}],\"surface\":[{\"type\":\"surface\",\"colorbar\":{\"outlinewidth\":0,\"ticks\":\"\"},\"colorscale\":[[0.0,\"#0d0887\"],[0.1111111111111111,\"#46039f\"],[0.2222222222222222,\"#7201a8\"],[0.3333333333333333,\"#9c179e\"],[0.4444444444444444,\"#bd3786\"],[0.5555555555555556,\"#d8576b\"],[0.6666666666666666,\"#ed7953\"],[0.7777777777777778,\"#fb9f3a\"],[0.8888888888888888,\"#fdca26\"],[1.0,\"#f0f921\"]]}],\"mesh3d\":[{\"type\":\"mesh3d\",\"colorbar\":{\"outlinewidth\":0,\"ticks\":\"\"}}],\"scatter\":[{\"marker\":{\"line\":{\"color\":\"#283442\"}},\"type\":\"scatter\"}],\"parcoords\":[{\"type\":\"parcoords\",\"line\":{\"colorbar\":{\"outlinewidth\":0,\"ticks\":\"\"}}}],\"scatterpolargl\":[{\"type\":\"scatterpolargl\",\"marker\":{\"colorbar\":{\"outlinewidth\":0,\"ticks\":\"\"}}}],\"bar\":[{\"error_x\":{\"color\":\"#f2f5fa\"},\"error_y\":{\"color\":\"#f2f5fa\"},\"marker\":{\"line\":{\"color\":\"rgb(17,17,17)\",\"width\":0.5},\"pattern\":{\"fillmode\":\"overlay\",\"size\":10,\"solidity\":0.2}},\"type\":\"bar\"}],\"scattergeo\":[{\"type\":\"scattergeo\",\"marker\":{\"colorbar\":{\"outlinewidth\":0,\"ticks\":\"\"}}}],\"scatterpolar\":[{\"type\":\"scatterpolar\",\"marker\":{\"colorbar\":{\"outlinewidth\":0,\"ticks\":\"\"}}}],\"histogram\":[{\"marker\":{\"pattern\":{\"fillmode\":\"overlay\",\"size\":10,\"solidity\":0.2}},\"type\":\"histogram\"}],\"scattergl\":[{\"marker\":{\"line\":{\"color\":\"#283442\"}},\"type\":\"scattergl\"}],\"scatter3d\":[{\"type\":\"scatter3d\",\"line\":{\"colorbar\":{\"outlinewidth\":0,\"ticks\":\"\"}},\"marker\":{\"colorbar\":{\"outlinewidth\":0,\"ticks\":\"\"}}}],\"scattermapbox\":[{\"type\":\"scattermapbox\",\"marker\":{\"colorbar\":{\"outlinewidth\":0,\"ticks\":\"\"}}}],\"scatterternary\":[{\"type\":\"scatterternary\",\"marker\":{\"colorbar\":{\"outlinewidth\":0,\"ticks\":\"\"}}}],\"scattercarpet\":[{\"type\":\"scattercarpet\",\"marker\":{\"colorbar\":{\"outlinewidth\":0,\"ticks\":\"\"}}}],\"carpet\":[{\"aaxis\":{\"endlinecolor\":\"#A2B1C6\",\"gridcolor\":\"#506784\",\"linecolor\":\"#506784\",\"minorgridcolor\":\"#506784\",\"startlinecolor\":\"#A2B1C6\"},\"baxis\":{\"endlinecolor\":\"#A2B1C6\",\"gridcolor\":\"#506784\",\"linecolor\":\"#506784\",\"minorgridcolor\":\"#506784\",\"startlinecolor\":\"#A2B1C6\"},\"type\":\"carpet\"}],\"table\":[{\"cells\":{\"fill\":{\"color\":\"#506784\"},\"line\":{\"color\":\"rgb(17,17,17)\"}},\"header\":{\"fill\":{\"color\":\"#2a3f5f\"},\"line\":{\"color\":\"rgb(17,17,17)\"}},\"type\":\"table\"}],\"barpolar\":[{\"marker\":{\"line\":{\"color\":\"rgb(17,17,17)\",\"width\":0.5},\"pattern\":{\"fillmode\":\"overlay\",\"size\":10,\"solidity\":0.2}},\"type\":\"barpolar\"}],\"pie\":[{\"automargin\":true,\"type\":\"pie\"}]},\"layout\":{\"autotypenumbers\":\"strict\",\"colorway\":[\"#636efa\",\"#EF553B\",\"#00cc96\",\"#ab63fa\",\"#FFA15A\",\"#19d3f3\",\"#FF6692\",\"#B6E880\",\"#FF97FF\",\"#FECB52\"],\"font\":{\"color\":\"#f2f5fa\"},\"hovermode\":\"closest\",\"hoverlabel\":{\"align\":\"left\"},\"paper_bgcolor\":\"rgb(17,17,17)\",\"plot_bgcolor\":\"rgb(17,17,17)\",\"polar\":{\"bgcolor\":\"rgb(17,17,17)\",\"angularaxis\":{\"gridcolor\":\"#506784\",\"linecolor\":\"#506784\",\"ticks\":\"\"},\"radialaxis\":{\"gridcolor\":\"#506784\",\"linecolor\":\"#506784\",\"ticks\":\"\"}},\"ternary\":{\"bgcolor\":\"rgb(17,17,17)\",\"aaxis\":{\"gridcolor\":\"#506784\",\"linecolor\":\"#506784\",\"ticks\":\"\"},\"baxis\":{\"gridcolor\":\"#506784\",\"linecolor\":\"#506784\",\"ticks\":\"\"},\"caxis\":{\"gridcolor\":\"#506784\",\"linecolor\":\"#506784\",\"ticks\":\"\"}},\"coloraxis\":{\"colorbar\":{\"outlinewidth\":0,\"ticks\":\"\"}},\"colorscale\":{\"sequential\":[[0.0,\"#0d0887\"],[0.1111111111111111,\"#46039f\"],[0.2222222222222222,\"#7201a8\"],[0.3333333333333333,\"#9c179e\"],[0.4444444444444444,\"#bd3786\"],[0.5555555555555556,\"#d8576b\"],[0.6666666666666666,\"#ed7953\"],[0.7777777777777778,\"#fb9f3a\"],[0.8888888888888888,\"#fdca26\"],[1.0,\"#f0f921\"]],\"sequentialminus\":[[0.0,\"#0d0887\"],[0.1111111111111111,\"#46039f\"],[0.2222222222222222,\"#7201a8\"],[0.3333333333333333,\"#9c179e\"],[0.4444444444444444,\"#bd3786\"],[0.5555555555555556,\"#d8576b\"],[0.6666666666666666,\"#ed7953\"],[0.7777777777777778,\"#fb9f3a\"],[0.8888888888888888,\"#fdca26\"],[1.0,\"#f0f921\"]],\"diverging\":[[0,\"#8e0152\"],[0.1,\"#c51b7d\"],[0.2,\"#de77ae\"],[0.3,\"#f1b6da\"],[0.4,\"#fde0ef\"],[0.5,\"#f7f7f7\"],[0.6,\"#e6f5d0\"],[0.7,\"#b8e186\"],[0.8,\"#7fbc41\"],[0.9,\"#4d9221\"],[1,\"#276419\"]]},\"xaxis\":{\"gridcolor\":\"#283442\",\"linecolor\":\"#506784\",\"ticks\":\"\",\"title\":{\"standoff\":15},\"zerolinecolor\":\"#283442\",\"automargin\":true,\"zerolinewidth\":2},\"yaxis\":{\"gridcolor\":\"#283442\",\"linecolor\":\"#506784\",\"ticks\":\"\",\"title\":{\"standoff\":15},\"zerolinecolor\":\"#283442\",\"automargin\":true,\"zerolinewidth\":2},\"scene\":{\"xaxis\":{\"backgroundcolor\":\"rgb(17,17,17)\",\"gridcolor\":\"#506784\",\"linecolor\":\"#506784\",\"showbackground\":true,\"ticks\":\"\",\"zerolinecolor\":\"#C8D4E3\",\"gridwidth\":2},\"yaxis\":{\"backgroundcolor\":\"rgb(17,17,17)\",\"gridcolor\":\"#506784\",\"linecolor\":\"#506784\",\"showbackground\":true,\"ticks\":\"\",\"zerolinecolor\":\"#C8D4E3\",\"gridwidth\":2},\"zaxis\":{\"backgroundcolor\":\"rgb(17,17,17)\",\"gridcolor\":\"#506784\",\"linecolor\":\"#506784\",\"showbackground\":true,\"ticks\":\"\",\"zerolinecolor\":\"#C8D4E3\",\"gridwidth\":2}},\"shapedefaults\":{\"line\":{\"color\":\"#f2f5fa\"}},\"annotationdefaults\":{\"arrowcolor\":\"#f2f5fa\",\"arrowhead\":0,\"arrowwidth\":1},\"geo\":{\"bgcolor\":\"rgb(17,17,17)\",\"landcolor\":\"rgb(17,17,17)\",\"subunitcolor\":\"#506784\",\"showland\":true,\"showlakes\":true,\"lakecolor\":\"rgb(17,17,17)\"},\"title\":{\"x\":0.05},\"updatemenudefaults\":{\"bgcolor\":\"#506784\",\"borderwidth\":0},\"sliderdefaults\":{\"bgcolor\":\"#C8D4E3\",\"borderwidth\":1,\"bordercolor\":\"rgb(17,17,17)\",\"tickwidth\":0},\"mapbox\":{\"style\":\"dark\"}}}},                        {\"responsive\": true}                    ).then(function(){\n                            \nvar gd = document.getElementById('2db8fe41-f44b-47fc-af2d-22f18d7a551c');\nvar x = new MutationObserver(function (mutations, observer) {{\n        var display = window.getComputedStyle(gd).display;\n        if (!display || display === 'none') {{\n            console.log([gd, 'removed!']);\n            Plotly.purge(gd);\n            observer.disconnect();\n        }}\n}});\n\n// Listen for the removal of the full notebook cells\nvar notebookContainer = gd.closest('#notebook-container');\nif (notebookContainer) {{\n    x.observe(notebookContainer, {childList: true});\n}}\n\n// Listen for the clearing of the current output cell\nvar outputEl = gd.closest('.output');\nif (outputEl) {{\n    x.observe(outputEl, {childList: true});\n}}\n\n                        })                };                });            </script>        </div>"
     },
     "metadata": {},
     "output_type": "display_data"
    }
   ],
   "source": [
    "plot('SANTOS/BUSD', 5, '1h', annualized=False)"
   ],
   "metadata": {
    "collapsed": false
   }
  }
 ],
 "metadata": {
  "kernelspec": {
   "display_name": "Python 3",
   "language": "python",
   "name": "python3"
  },
  "language_info": {
   "codemirror_mode": {
    "name": "ipython",
    "version": 2
   },
   "file_extension": ".py",
   "mimetype": "text/x-python",
   "name": "python",
   "nbconvert_exporter": "python",
   "pygments_lexer": "ipython2",
   "version": "2.7.6"
  }
 },
 "nbformat": 4,
 "nbformat_minor": 0
}
