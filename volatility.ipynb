{
 "cells": [
  {
   "cell_type": "code",
   "execution_count": 1,
   "outputs": [],
   "source": [
    "from datetime import datetime, timedelta\n",
    "\n",
    "import ccxt\n",
    "import numpy as np\n",
    "import pandas as pd\n",
    "\n",
    "import plotly.graph_objects as go\n",
    "\n",
    "ex = ccxt.binance()"
   ],
   "metadata": {
    "collapsed": false
   }
  },
  {
   "cell_type": "code",
   "execution_count": 2,
   "outputs": [],
   "source": [
    "symbols = [line.strip() for line in open(\"symbols.txt\", \"r\").readlines()]"
   ],
   "metadata": {
    "collapsed": false
   }
  },
  {
   "cell_type": "code",
   "execution_count": 3,
   "outputs": [],
   "source": [
    "def get_ohlcv(symbol, days_count, timeframe):\n",
    "    from_ts = int((datetime.today() - timedelta(days=days_count)).timestamp() * 1000)\n",
    "\n",
    "    ts = []\n",
    "    time = []\n",
    "    open = []\n",
    "    high = []\n",
    "    low = []\n",
    "    close = []\n",
    "    volume = []\n",
    "\n",
    "    mid = []\n",
    "    open_close_dif = []\n",
    "    low_high_dif = []\n",
    "    open_close_dif_abs = []\n",
    "    low_high_dif_abs = []\n",
    "\n",
    "    ohlcvs = ex.fetch_ohlcv(symbol, timeframe, since=from_ts)\n",
    "\n",
    "    for ohlcv in ohlcvs:\n",
    "        t, o, h, l, c, v = ohlcv\n",
    "        ts.append(t)\n",
    "        time.append(pd.to_datetime(t, unit='ms'))\n",
    "        open.append(o)\n",
    "        high.append(h)\n",
    "        low.append(l)\n",
    "        close.append(c)\n",
    "        volume.append(v)\n",
    "\n",
    "        mid.append((h+l) / 2)\n",
    "        open_close_dif.append(o-c)\n",
    "        low_high_dif.append(l-h)\n",
    "        open_close_dif_abs.append(abs(o-c))\n",
    "        low_high_dif_abs.append(abs(l-h))\n",
    "\n",
    "    return pd.DataFrame({\"ts\": ts, \"time\": time, \"open\": open, \"high\": high, \"low\": low, \"close\": close, \"volume\": volume, \"mid\": mid, \"open_close_dif\": open_close_dif, \"low_high_dif\": low_high_dif, \"open_close_dif_abs\": open_close_dif_abs, \"low_high_dif_abs\": low_high_dif_abs})"
   ],
   "metadata": {
    "collapsed": false
   }
  },
  {
   "cell_type": "code",
   "execution_count": 4,
   "outputs": [],
   "source": [
    "def fill_ohcls(ohcls, log_price = True):\n",
    "    diff = np.abs(np.diff(ohcls['mid']))\n",
    "\n",
    "    mid_shifted = ohcls['mid'][1:].to_numpy()\n",
    "    mid_without_last = ohcls['mid'][:-1].to_numpy()\n",
    "\n",
    "    if log_price:\n",
    "        div = mid_shifted / mid_without_last\n",
    "        log_diff = np.log(div)\n",
    "    else:\n",
    "        div = (mid_shifted - mid_without_last) / mid_shifted\n",
    "        log_diff = div\n",
    "\n",
    "    ohcls.loc[1:, ['diff']] = diff\n",
    "    ohcls.loc[1:, ['log_diff']] = np.abs(log_diff)\n",
    "\n",
    "    return ohcls[1:]"
   ],
   "metadata": {
    "collapsed": false
   }
  },
  {
   "cell_type": "markdown",
   "source": [],
   "metadata": {
    "collapsed": false
   }
  },
  {
   "cell_type": "code",
   "execution_count": 5,
   "outputs": [],
   "source": [
    "def plot_volatility(ohcls):\n",
    "    volatility = go.Scatter(x=ohcls['time'], y=ohcls[\"log_diff\"], name = 'price_diff', mode='lines')\n",
    "\n",
    "    time_period = ohcls.iloc[[0,-1]]['time']\n",
    "    mean = ohcls['log_diff'].mean()\n",
    "    y_sigma1 = ohcls['log_diff'].std()\n",
    "    y_sigma2 = y_sigma1 * 2\n",
    "    y_sigma3 = y_sigma1 * 3\n",
    "\n",
    "    mean = go.Scatter(x=time_period, y = [mean, mean], name = 'mean', mode='lines', line={'width': 1})\n",
    "    sigma1 = go.Scatter(x=time_period, y = [y_sigma1, y_sigma1], name = 'sigma1', mode='lines', line={'width': 1})\n",
    "    sigma2 = go.Scatter(x=time_period, y = [y_sigma2, y_sigma2], name = 'sigma2', mode='lines', line={'width': 1})\n",
    "    sigma3 = go.Scatter(x=time_period, y = [y_sigma3, y_sigma3], name = 'sigma3', mode='lines', line={'width': 1})\n",
    "\n",
    "    fig = go.Figure()\n",
    "    fig.add_trace(volatility)\n",
    "    fig.add_trace(mean)\n",
    "    fig.add_trace(sigma1)\n",
    "    fig.add_trace(sigma2)\n",
    "    fig.add_trace(sigma3)\n",
    "    fig.show()"
   ],
   "metadata": {
    "collapsed": false
   }
  },
  {
   "cell_type": "code",
   "execution_count": 6,
   "outputs": [],
   "source": [
    "def annualize(symbol, ohcls):\n",
    "    vol = ohcls['log_diff'].std()\n",
    "\n",
    "    timestamps = ohcls['ts'].to_numpy()\n",
    "    ts_start, ts_end = timestamps[0], timestamps[-1]\n",
    "    dt_ms = ts_end - ts_start\n",
    "    year_ms = 365 * 24 * 60 * 60 * 1000\n",
    "\n",
    "    n_periods = year_ms / dt_ms\n",
    "    annualized = vol * np.sqrt(n_periods)\n",
    "\n",
    "    # print(symbol, 'period:', int((dt_ms / 1000 / 60 / 60 / 24) * 100)/100, 'days')\n",
    "\n",
    "    return annualized\n"
   ],
   "metadata": {
    "collapsed": false
   }
  },
  {
   "cell_type": "markdown",
   "source": [],
   "metadata": {
    "collapsed": false
   }
  },
  {
   "cell_type": "code",
   "execution_count": 7,
   "outputs": [],
   "source": [
    "def create_ohlcv_df(symbol, days_count, timeframe, log_price = True):\n",
    "    \"\"\"\n",
    "    start volatility investigation\n",
    "    :param str symbol: Unified CCXT market symbol\n",
    "    :param int days_count: last days_count to fetch\n",
    "    :param str timeframe: \"5m\",\"15m\",\"30m\",\"1h\",\"2h\",\"4h\",\"6h\",\"12h\", or \"1d\"\n",
    "    :param bool|None log_price: default True: use log(price_diff) or not\n",
    "    \"\"\"\n",
    "    ohcls = get_ohlcv(symbol, days_count, timeframe)\n",
    "    ohcls = fill_ohcls(ohcls, log_price)\n",
    "\n",
    "    return ohcls"
   ],
   "metadata": {
    "collapsed": false
   }
  },
  {
   "cell_type": "code",
   "execution_count": 8,
   "outputs": [],
   "source": [
    "def start(symbols, days_count, timeframe):\n",
    "    coins = []\n",
    "    volatility = []\n",
    "\n",
    "    for symbol in symbols:\n",
    "        ohcls = create_ohlcv_df(symbol, days_count, timeframe)\n",
    "        annualized_vol = annualize(symbol, ohcls)\n",
    "\n",
    "        coins.append(symbol)\n",
    "        volatility.append(annualized_vol)\n",
    "\n",
    "    print(pd.DataFrame({\"annual_vol\": volatility}, index=coins))"
   ],
   "metadata": {
    "collapsed": false
   }
  },
  {
   "cell_type": "code",
   "execution_count": 9,
   "outputs": [
    {
     "name": "stdout",
     "output_type": "stream",
     "text": [
      "            annual_vol\n",
      "FORTH/BUSD    0.021063\n",
      "DOT/BUSD      0.011066\n",
      "FIL/BUSD      0.014099\n",
      "BTCST/BUSD    0.060946\n",
      "SHIB/BUSD     0.013870\n",
      "GMT/BUSD      0.013037\n",
      "ICP/BUSD      0.012507\n",
      "RUNE/BUSD     0.014862\n",
      "APE/BUSD      0.016062\n",
      "LINK/BUSD     0.014994\n"
     ]
    }
   ],
   "source": [
    "start(symbols[:10], 5, '15m')"
   ],
   "metadata": {
    "collapsed": false
   }
  }
 ],
 "metadata": {
  "kernelspec": {
   "display_name": "Python 3",
   "language": "python",
   "name": "python3"
  },
  "language_info": {
   "codemirror_mode": {
    "name": "ipython",
    "version": 2
   },
   "file_extension": ".py",
   "mimetype": "text/x-python",
   "name": "python",
   "nbconvert_exporter": "python",
   "pygments_lexer": "ipython2",
   "version": "2.7.6"
  }
 },
 "nbformat": 4,
 "nbformat_minor": 0
}
